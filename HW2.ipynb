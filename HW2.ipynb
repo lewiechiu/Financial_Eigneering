{
 "cells": [
  {
   "cell_type": "code",
   "execution_count": 283,
   "metadata": {},
   "outputs": [],
   "source": [
    "import numpy as np\n",
    "import scipy as sp\n",
    "\n",
    "from scipy.stats import norm"
   ]
  },
  {
   "cell_type": "code",
   "execution_count": 284,
   "metadata": {},
   "outputs": [],
   "source": [
    "S0 = 100\n",
    "T = 0.5\n",
    "K = 90\n",
    "r = 0.05\n",
    "q = 0.02\n",
    "sigma = 0.5\n",
    "n_sim = 0\n",
    "n_rep = 0\n",
    "n = 100"
   ]
  },
  {
   "cell_type": "markdown",
   "metadata": {},
   "source": [
    "## Black-Scholes\n",
    "\n",
    "$$ c(S_0, 0) = S_0N(d_1) - Ke^{-rT}N(d_2)$$\n",
    "$$d1 = \\frac{\\ln(\\frac{S_0}{K}) + (r-q+\\frac{\\sigma^2}{2})T}{\\sigma\\sqrt{T}} \\quad\\quad d2 = d1 - \\sigma\\sqrt{T}$$"
   ]
  },
  {
   "cell_type": "code",
   "execution_count": 285,
   "metadata": {},
   "outputs": [
    {
     "name": "stdout",
     "output_type": "stream",
     "text": [
      "--> 19.461057884772558\n"
     ]
    }
   ],
   "source": [
    "d1 = np.log(S0 / K) + ( r - q + (sigma**2) / 2) * T\n",
    "d1 = d1 / (sigma* np.sqrt(T))\n",
    "d2 = d1 - (sigma* np.sqrt(T))\n",
    "\n",
    "print(\"-->\", np.exp(-q*T)* S0 * norm.cdf(d1) - K * np.exp(-r*T)*norm.cdf(d2))"
   ]
  },
  {
   "cell_type": "markdown",
   "metadata": {},
   "source": [
    "## Monte Carlo"
   ]
  },
  {
   "cell_type": "code",
   "execution_count": 286,
   "metadata": {},
   "outputs": [
    {
     "name": "stdout",
     "output_type": "stream",
     "text": [
      "19.10003254167035\n",
      "19.258138131846103\n",
      "19.35350338024557\n",
      "19.35913272681825\n",
      "19.42252448126177\n",
      "19.353444789930432\n",
      "19.38499448521067\n",
      "19.45144614855389\n",
      "19.46165016135612\n",
      "19.43725684579184\n",
      "19.465051512790144\n",
      "19.489684821414752\n",
      "19.490032075381347\n",
      "19.480133311565073\n",
      "19.504953332044558\n",
      "19.511729487003063\n",
      "19.496066529342592\n",
      "19.47764424118561\n",
      "19.50650028680449\n",
      "19.468290543149916\n"
     ]
    }
   ],
   "source": [
    "\n",
    "avg = []\n",
    "tmp = []\n",
    "for i in range(20):\n",
    "    payoff = np.random.normal(np.log(S0) + (r - q - (sigma**2) / 2) * T, (sigma) * np.sqrt(T), 10000)\n",
    "    payoff = np.exp(payoff)\n",
    "    for num in payoff:\n",
    "        if num >= K:\n",
    "            tmp.append(num - K)\n",
    "        else:\n",
    "            tmp.append(0)\n",
    "    avg.append(np.exp(-r * T) * np.mean(tmp))\n",
    "    print(avg[-1])"
   ]
  },
  {
   "cell_type": "code",
   "execution_count": 287,
   "metadata": {},
   "outputs": [
    {
     "data": {
      "text/plain": [
       "(19.22608184057399, 19.621139142762665)"
      ]
     },
     "execution_count": 287,
     "metadata": {},
     "output_type": "execute_result"
    }
   ],
   "source": [
    "np.mean(avg) - 2 * np.std(avg), np.mean(avg) + 2 * np.std(avg)"
   ]
  },
  {
   "cell_type": "markdown",
   "metadata": {},
   "source": [
    "## CRR Binomial Tree"
   ]
  },
  {
   "cell_type": "code",
   "execution_count": 288,
   "metadata": {},
   "outputs": [
    {
     "name": "stdout",
     "output_type": "stream",
     "text": [
      "delta t:0.005\n",
      "u:1.0359877703222138\t d:0.965262359891545\n",
      "p:0.49328312337215086\n"
     ]
    }
   ],
   "source": [
    "delta_t = T/n\n",
    "u = np.exp(sigma * np.sqrt(delta_t))\n",
    "d = 1 / u\n",
    "p = (np.exp((r-q)*delta_t) - d)/(u-d)\n",
    "print(\"delta t:{}\\nu:{}\\t d:{}\\np:{}\".format(delta_t, u, d, p))"
   ]
  },
  {
   "cell_type": "code",
   "execution_count": 289,
   "metadata": {},
   "outputs": [
    {
     "data": {
      "text/plain": [
       "(101, 101)"
      ]
     },
     "execution_count": 289,
     "metadata": {},
     "output_type": "execute_result"
    }
   ],
   "source": [
    "crr_tree = np.zeros((n+1, n+1))\n",
    "crr_tree.shape"
   ]
  },
  {
   "cell_type": "markdown",
   "metadata": {},
   "source": [
    "### European option"
   ]
  },
  {
   "cell_type": "code",
   "execution_count": 290,
   "metadata": {},
   "outputs": [],
   "source": [
    "cnj = []"
   ]
  },
  {
   "cell_type": "code",
   "execution_count": 291,
   "metadata": {},
   "outputs": [
    {
     "name": "stdout",
     "output_type": "stream",
     "text": [
      "100 99 98 97 96 95 94 93 92 91 90 89 88 87 86 85 84 83 82 81 80 79 78 77 76 75 74 73 72 71 70 69 68 67 66 65 64 63 62 61 60 59 58 57 56 55 54 53 52 51 50 49 48 47 46 45 44 43 42 41 40 39 38 37 36 35 34 33 32 31 30 29 28 27 26 25 24 23 22 21 20 19 18 17 16 15 14 13 12 11 10 9 8 7 6 5 4 3 2 1 0 "
     ]
    }
   ],
   "source": [
    "for col in range(n, -1, -1): # n~0\n",
    "    print(col, end =' ')\n",
    "    if col == n:\n",
    "        for row in range(0, n+1): # 0~n\n",
    "    #         print(row, col)\n",
    "            stock_value = S0 * (u ** (n-row)) * (d ** row)\n",
    "            crr_tree[row, col] =max(0, stock_value - K)\n",
    "    else:\n",
    "#         print(row, col)\n",
    "        for row in range(0, col+1):\n",
    "#             print(crr_tree[row, col], crr_tree[row, col + 1], crr_tree[row + 1, col + 1])\n",
    "            crr_tree[row, col] = np.exp(-r*delta_t)* (p * crr_tree[row, col + 1] + (1 - p) * crr_tree[row + 1, col + 1])"
   ]
  },
  {
   "cell_type": "code",
   "execution_count": 292,
   "metadata": {},
   "outputs": [
    {
     "data": {
      "text/plain": [
       "19.490566482943247"
      ]
     },
     "execution_count": 292,
     "metadata": {},
     "output_type": "execute_result"
    }
   ],
   "source": [
    "crr_tree[0,0]"
   ]
  },
  {
   "cell_type": "markdown",
   "metadata": {},
   "source": [
    "### American option"
   ]
  },
  {
   "cell_type": "code",
   "execution_count": 293,
   "metadata": {},
   "outputs": [],
   "source": [
    "cnj = []"
   ]
  },
  {
   "cell_type": "code",
   "execution_count": 294,
   "metadata": {},
   "outputs": [
    {
     "data": {
      "text/plain": [
       "(101, 101)"
      ]
     },
     "execution_count": 294,
     "metadata": {},
     "output_type": "execute_result"
    }
   ],
   "source": [
    "crr_tree = np.zeros((n+1, n+1))\n",
    "crr_tree.shape"
   ]
  },
  {
   "cell_type": "code",
   "execution_count": 295,
   "metadata": {},
   "outputs": [
    {
     "name": "stdout",
     "output_type": "stream",
     "text": [
      "100 99 98 97 96 95 94 93 92 91 90 89 88 87 86 85 84 83 82 81 80 79 78 77 76 75 74 73 72 71 70 69 68 67 66 65 64 63 62 61 60 59 58 57 56 55 54 53 52 51 50 49 48 47 46 45 44 43 42 41 40 39 38 37 36 35 34 33 32 31 30 29 28 27 26 25 24 23 22 21 20 19 18 17 16 15 14 13 12 11 10 9 8 7 6 5 4 3 2 1 0 "
     ]
    }
   ],
   "source": [
    "for col in range(n, -1, -1): # n~0\n",
    "    print(col, end =' ')\n",
    "    if col == n:\n",
    "        for row in range(0, n+1): # 0~n\n",
    "    #         print(row, col)\n",
    "            stock_value = S0 * (u ** (n-row)) * (d ** row)\n",
    "            crr_tree[row, col] =max(0, stock_value - K)\n",
    "    else:\n",
    "#         print(row, col)\n",
    "        for row in range(0, col+1):\n",
    "            stock_value = S0 * (u ** (col-row)) * (d ** row)\n",
    "            crr_tree[row, col] = np.exp(-r*delta_t)* (p * crr_tree[row, col + 1] + (1 - p) * crr_tree[row + 1, col + 1])\n",
    "            crr_tree[row, col] = max(crr_tree[row, col], stock_value - K)"
   ]
  },
  {
   "cell_type": "code",
   "execution_count": 296,
   "metadata": {},
   "outputs": [
    {
     "data": {
      "text/plain": [
       "19.490868043292895"
      ]
     },
     "execution_count": 296,
     "metadata": {},
     "output_type": "execute_result"
    }
   ],
   "source": [
    "crr_tree[0,0]"
   ]
  },
  {
   "cell_type": "markdown",
   "metadata": {},
   "source": [
    "## Bonus"
   ]
  },
  {
   "cell_type": "markdown",
   "metadata": {},
   "source": [
    "### European"
   ]
  },
  {
   "cell_type": "code",
   "execution_count": 297,
   "metadata": {},
   "outputs": [],
   "source": [
    "cnj = []"
   ]
  },
  {
   "cell_type": "code",
   "execution_count": 298,
   "metadata": {},
   "outputs": [
    {
     "name": "stdout",
     "output_type": "stream",
     "text": [
      "100 99 98 97 96 95 94 93 92 91 90 89 88 87 86 85 84 83 82 81 80 79 78 77 76 75 74 73 72 71 70 69 68 67 66 65 64 63 62 61 60 59 58 57 56 55 54 53 52 51 50 49 48 47 46 45 44 43 42 41 40 39 38 37 36 35 34 33 32 31 30 29 28 27 26 25 24 23 22 21 20 19 18 17 16 15 14 13 12 11 10 9 8 7 6 5 4 3 2 1 0 "
     ]
    }
   ],
   "source": [
    "for col in range(n, -1, -1): # n~0\n",
    "    print(col, end =' ')\n",
    "    if col == n:\n",
    "        for row in range(0, n+1): # 0~n\n",
    "    #         print(row, col)\n",
    "            stock_value = S0 * (u ** (n-row)) * (d ** row)\n",
    "            cnj.append(max(0, stock_value - K))\n",
    "    else:\n",
    "#         print(row, col)\n",
    "        for row in range(0, col+1):\n",
    "#             print(crr_tree[row, col], crr_tree[row, col + 1], crr_tree[row + 1, col + 1])\n",
    "            cnj[row] = np.exp(-r*delta_t)* (p * cnj[row] + (1 - p) * cnj[row + 1])"
   ]
  },
  {
   "cell_type": "code",
   "execution_count": 299,
   "metadata": {},
   "outputs": [
    {
     "data": {
      "text/plain": [
       "19.490566482943247"
      ]
     },
     "execution_count": 299,
     "metadata": {},
     "output_type": "execute_result"
    }
   ],
   "source": [
    "cnj[0]"
   ]
  },
  {
   "cell_type": "markdown",
   "metadata": {},
   "source": [
    "### American"
   ]
  },
  {
   "cell_type": "code",
   "execution_count": 300,
   "metadata": {},
   "outputs": [],
   "source": [
    "cnj = []"
   ]
  },
  {
   "cell_type": "code",
   "execution_count": 301,
   "metadata": {},
   "outputs": [
    {
     "name": "stdout",
     "output_type": "stream",
     "text": [
      "100 99 98 97 96 95 94 93 92 91 90 89 88 87 86 85 84 83 82 81 80 79 78 77 76 75 74 73 72 71 70 69 68 67 66 65 64 63 62 61 60 59 58 57 56 55 54 53 52 51 50 49 48 47 46 45 44 43 42 41 40 39 38 37 36 35 34 33 32 31 30 29 28 27 26 25 24 23 22 21 20 19 18 17 16 15 14 13 12 11 10 9 8 7 6 5 4 3 2 1 0 "
     ]
    }
   ],
   "source": [
    "for col in range(n, -1, -1): # n~0\n",
    "    print(col, end =' ')\n",
    "    if col == n:\n",
    "        for row in range(0, n+1): # 0~n\n",
    "    #         print(row, col)\n",
    "            stock_value = S0 * (u ** (n-row)) * (d ** row)\n",
    "            cnj.append(max(0, stock_value - K))\n",
    "    else:\n",
    "#         print(row, col)\n",
    "        for row in range(0, col+1):\n",
    "            stock_value = S0 * (u ** (col-row)) * (d ** row)\n",
    "            cnj[row] = np.exp(-r*delta_t)* (p * cnj[row] + (1 - p) * cnj[row + 1])\n",
    "            cnj[row] = max(cnj[row], stock_value - K)"
   ]
  },
  {
   "cell_type": "code",
   "execution_count": 302,
   "metadata": {},
   "outputs": [
    {
     "data": {
      "text/plain": [
       "19.490868043292895"
      ]
     },
     "execution_count": 302,
     "metadata": {},
     "output_type": "execute_result"
    }
   ],
   "source": [
    "cnj[0]"
   ]
  },
  {
   "cell_type": "code",
   "execution_count": 71,
   "metadata": {},
   "outputs": [],
   "source": [
    "def large_fac(number):\n",
    "    largest_num = 100000\n",
    "    result = [0] * largest_num\n",
    "    result[0] = 1\n",
    "    for i in range(1, number+1):\n",
    "        prod = 0\n",
    "        for j in range(len(result)):\n",
    "            prod = result[j] * i + prod\n",
    "            result[j] = prod % 10\n",
    "            prod = prod // 10\n",
    "    result.reverse()\n",
    "    for i in range(largest_num):\n",
    "        if result[i] != 0:\n",
    "            for j in range(i, largest_num):\n",
    "                print(result[j], end='')\n",
    "            break"
   ]
  },
  {
   "cell_type": "code",
   "execution_count": 73,
   "metadata": {},
   "outputs": [
    {
     "name": "stdout",
     "output_type": "stream",
     "text": [
      "402387260077093773543702433923003985719374864210714632543799910429938512398629020592044208486969404800479988610197196058631666872994808558901323829669944590997424504087073759918823627727188732519779505950995276120874975462497043601418278094646496291056393887437886487337119181045825783647849977012476632889835955735432513185323958463075557409114262417474349347553428646576611667797396668820291207379143853719588249808126867838374559731746136085379534524221586593201928090878297308431392844403281231558611036976801357304216168747609675871348312025478589320767169132448426236131412508780208000261683151027341827977704784635868170164365024153691398281264810213092761244896359928705114964975419909342221566832572080821333186116811553615836546984046708975602900950537616475847728421889679646244945160765353408198901385442487984959953319101723355556602139450399736280750137837615307127761926849034352625200015888535147331611702103968175921510907788019393178114194545257223865541461062892187960223838971476088506276862967146674697562911234082439208160153780889893964518263243671616762179168909779911903754031274622289988005195444414282012187361745992642956581746628302955570299024324153181617210465832036786906117260158783520751516284225540265170483304226143974286933061690897968482590125458327168226458066526769958652682272807075781391858178889652208164348344825993266043367660176999612831860788386150279465955131156552036093988180612138558600301435694527224206344631797460594682573103790084024432438465657245014402821885252470935190620929023136493273497565513958720559654228749774011413346962715422845862377387538230483865688976461927383814900140767310446640259899490222221765904339901886018566526485061799702356193897017860040811889729918311021171229845901641921068884387121855646124960798722908519296819372388642614839657382291123125024186649353143970137428531926649875337218940694281434118520158014123344828015051399694290153483077644569099073152433278288269864602789864321139083506217095002597389863554277196742822248757586765752344220207573630569498825087968928162753848863396909959826280956121450994871701244516461260379029309120889086942028510640182154399457156805941872748998094254742173582401063677404595741785160829230135358081840096996372524230560855903700624271243416909004153690105933983835777939410970027753472000000000000000000000000000000000000000000000000000000000000000000000000000000000000000000000000000000000000000000000000000000000000000000000000000000000000000000000000000000000000000000000000000000000000000000000000000000000000000000000000000000000"
     ]
    }
   ],
   "source": [
    "large_fac(1000)"
   ]
  },
  {
   "cell_type": "code",
   "execution_count": null,
   "metadata": {},
   "outputs": [],
   "source": []
  }
 ],
 "metadata": {
  "kernelspec": {
   "display_name": "Python 3.8.2 64-bit ('ml_torch': conda)",
   "language": "python",
   "name": "python38264bitmltorchconda00017c2c38fa48acbf54500a2f274542"
  },
  "language_info": {
   "codemirror_mode": {
    "name": "ipython",
    "version": 3
   },
   "file_extension": ".py",
   "mimetype": "text/x-python",
   "name": "python",
   "nbconvert_exporter": "python",
   "pygments_lexer": "ipython3",
   "version": "3.8.2"
  }
 },
 "nbformat": 4,
 "nbformat_minor": 4
}
