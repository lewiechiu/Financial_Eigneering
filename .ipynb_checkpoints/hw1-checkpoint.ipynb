{
 "cells": [
  {
   "cell_type": "code",
   "execution_count": 220,
   "metadata": {},
   "outputs": [],
   "source": [
    "import numpy as np\n",
    "from scipy.stats import norm"
   ]
  },
  {
   "cell_type": "code",
   "execution_count": 234,
   "metadata": {},
   "outputs": [],
   "source": [
    "S0 = 100\n",
    "r = 0.05\n",
    "q = 0.02\n",
    "sigma = 0.5\n",
    "T = 0.4\n",
    "K1 = 90\n",
    "K2 = 98\n",
    "K3 = 102\n",
    "K4 = 104"
   ]
  },
  {
   "cell_type": "markdown",
   "metadata": {},
   "source": [
    "* Under Q measure\n",
    "$$\\frac{\\ln(\\frac{K_2}{S_0}) - (r - q - \\frac{\\sigma^2}{2})T}{\\sigma \\sqrt{T}}$$\n",
    "\n",
    "* Under R measure\n",
    "$$\\frac{\\ln(\\frac{K_2}{S_0}) - (r - q + \\frac{\\sigma^2}{2})T}{\\sigma \\sqrt{T}}$$"
   ]
  },
  {
   "cell_type": "code",
   "execution_count": 235,
   "metadata": {},
   "outputs": [],
   "source": [
    "\n",
    "# Under Q measure\n",
    "def dij (k):\n",
    "    return (np.log(k / S0) - ((r - q - (sigma ** 2 / 2)) * T)) / (sigma * np.sqrt(T))\n",
    "\n",
    "# Under R measure\n",
    "def dij_r (k):\n",
    "    return (np.log(k / S0) - ( (r - q + (sigma ** 2 / 2) ) * T)  ) / (sigma * np.sqrt(T))\n"
   ]
  },
  {
   "cell_type": "code",
   "execution_count": 236,
   "metadata": {},
   "outputs": [
    {
     "data": {
      "text/plain": [
       "0.125"
      ]
     },
     "execution_count": 236,
     "metadata": {},
     "output_type": "execute_result"
    }
   ],
   "source": [
    "(sigma ** 2 / 2)"
   ]
  },
  {
   "cell_type": "markdown",
   "metadata": {},
   "source": [
    "$$E^Q[(S_T-K_1)\\cdot 1_A]$$"
   ]
  },
  {
   "cell_type": "code",
   "execution_count": 237,
   "metadata": {},
   "outputs": [
    {
     "name": "stdout",
     "output_type": "stream",
     "text": [
      "10.032944352289107 9.61038633621843 0.42255801607067767\n"
     ]
    }
   ],
   "source": [
    "# E[S_T * 1A]\n",
    "_1 = S0 * np.exp((r - q) * T) * (norm.cdf(dij_r(K2)) - norm.cdf(dij_r(K1)))\n",
    "\n",
    "\n",
    "# K1 * E[1A]\n",
    "_2 = K1 * (norm.cdf(dij(K2)) - norm.cdf(dij(K1)) )\n",
    "\n",
    "a = _1 - _2\n",
    "print(_1, _2, a)"
   ]
  },
  {
   "cell_type": "markdown",
   "metadata": {},
   "source": [
    "$$E^Q[(K_3 - K_2) \\cdot 1_B]$$"
   ]
  },
  {
   "cell_type": "code",
   "execution_count": 238,
   "metadata": {},
   "outputs": [
    {
     "name": "stdout",
     "output_type": "stream",
     "text": [
      "0.4006174720693636 0.39268471462589627\n"
     ]
    }
   ],
   "source": [
    "# (K3 - K2) * E[1B]\n",
    "_2 = (K2 - K1) * (norm.cdf(dij(K3)) - norm.cdf(dij(K2)) )\n",
    "\n",
    "b = _2\n",
    "print(b, np.exp(-r * T)*b)"
   ]
  },
  {
   "cell_type": "markdown",
   "metadata": {},
   "source": [
    "$$E^Q[\\frac{(K_2-K_1)(K_4-S_T)}{K_4-K_3}\\cdot 1_C]$$"
   ]
  },
  {
   "cell_type": "code",
   "execution_count": 239,
   "metadata": {},
   "outputs": [
    {
     "name": "stdout",
     "output_type": "stream",
     "text": [
      "-9.863442787578789 9.959728572649055 0.09628578507026653\n"
     ]
    }
   ],
   "source": [
    "# - E[S_T * 1C]\n",
    "_1 = -1 * ((K2-K1)/(K4-K3))* S0 * np.exp((r - q)* T) * (norm.cdf(dij_r(K4)) - norm.cdf(dij_r(K3)))\n",
    "\n",
    "\n",
    "# K4 * E[1C]\n",
    "_2 = K4 *((K2-K1)/(K4-K3)) * (norm.cdf(dij(K4)) - norm.cdf(dij(K3)) )\n",
    "\n",
    "c = _1 + _2\n",
    "print(_1, _2, c)"
   ]
  },
  {
   "cell_type": "code",
   "execution_count": 240,
   "metadata": {},
   "outputs": [
    {
     "name": "stdout",
     "output_type": "stream",
     "text": [
      "0.9012547201576837\n"
     ]
    }
   ],
   "source": [
    "total = np.exp(-r * T) * (a + b + c)\n",
    "if total < 0:\n",
    "    total = 0\n",
    "print(total)"
   ]
  },
  {
   "cell_type": "markdown",
   "metadata": {},
   "source": [
    "### Derive by Monte Carlo simulation"
   ]
  },
  {
   "cell_type": "code",
   "execution_count": 241,
   "metadata": {},
   "outputs": [
    {
     "name": "stdout",
     "output_type": "stream",
     "text": [
      "0.8652032497455243\n",
      "0.9094962097549308\n",
      "0.9496600199960171\n",
      "0.9165234164840511\n",
      "0.9065688019381364\n",
      "0.9092982761872332\n",
      "0.9316548225406099\n",
      "0.9113230989986948\n",
      "0.9216731014757308\n",
      "0.9096455646635091\n",
      "0.8873392379176428\n",
      "0.9320361389039187\n",
      "0.891761813029525\n",
      "0.8800420167874233\n",
      "0.9011182382793983\n",
      "0.8596581982687844\n",
      "0.9035533769902147\n",
      "0.9032764604559952\n",
      "0.9323214981353353\n",
      "0.929663106654378\n"
     ]
    }
   ],
   "source": [
    "avg = []\n",
    "for i in range(20):\n",
    "    payoff = np.random.normal(np.log(S0) + (r - q - (sigma**2) / 2) * T, (sigma) * np.sqrt(T), 10000)\n",
    "#     payoff = np.random.normal( 10000)\n",
    "    \n",
    "    payoff = np.exp(payoff)\n",
    "    \n",
    "    tmp = []\n",
    "    for num in payoff:\n",
    "        if num >= K1 and num < K2:\n",
    "            tmp.append(num - K1)\n",
    "        elif num >= K2 and num < K3:\n",
    "            tmp.append(K2 - K1)\n",
    "        elif num >= K3 and num < K4:\n",
    "            revenue = ((K2-K1)*(K4-num))/(K4-K3)\n",
    "            tmp.append(revenue)\n",
    "        else:\n",
    "            tmp.append(0)\n",
    "    avg.append(np.exp(-r * T) * np.mean(tmp))\n",
    "    print(avg[-1])"
   ]
  },
  {
   "cell_type": "code",
   "execution_count": 242,
   "metadata": {},
   "outputs": [
    {
     "data": {
      "text/plain": [
       "(0.86300434147593, 0.9521773232447749)"
      ]
     },
     "execution_count": 242,
     "metadata": {},
     "output_type": "execute_result"
    }
   ],
   "source": [
    "np.mean(avg) - 2 * np.std(avg), np.mean(avg) + 2 * np.std(avg)"
   ]
  },
  {
   "cell_type": "code",
   "execution_count": null,
   "metadata": {},
   "outputs": [],
   "source": []
  }
 ],
 "metadata": {
  "kernelspec": {
   "display_name": "Python 3.8.2 64-bit ('ml_torch': conda)",
   "language": "python",
   "name": "python38264bitmltorchconda00017c2c38fa48acbf54500a2f274542"
  },
  "language_info": {
   "codemirror_mode": {
    "name": "ipython",
    "version": 3
   },
   "file_extension": ".py",
   "mimetype": "text/x-python",
   "name": "python",
   "nbconvert_exporter": "python",
   "pygments_lexer": "ipython3",
   "version": "3.8.2"
  }
 },
 "nbformat": 4,
 "nbformat_minor": 4
}
